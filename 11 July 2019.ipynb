{
 "cells": [
  {
   "cell_type": "code",
   "execution_count": 3,
   "metadata": {},
   "outputs": [
    {
     "name": "stdout",
     "output_type": "stream",
     "text": [
      "2\n",
      "6 -10 89 10 -8\n",
      "-87\n",
      "35 -3 11 -40 \n",
      "-3\n"
     ]
    }
   ],
   "source": [
    "## Additive inverse\n",
    "\n",
    "n=int(input())\n",
    "for i in range(n):\n",
    "    s=0\n",
    "    l=input().split()\n",
    "    for j in l:\n",
    "        s+=(int(j) * -1)\n",
    "    print(s)"
   ]
  },
  {
   "cell_type": "code",
   "execution_count": 4,
   "metadata": {},
   "outputs": [
    {
     "name": "stdout",
     "output_type": "stream",
     "text": [
      "2\n",
      "679587909348709704697\n",
      "False\n",
      "1234567890\n",
      "True\n"
     ]
    }
   ],
   "source": [
    "# Pandigital\n",
    "\n",
    "n = int(input())\n",
    "for i in range(n):\n",
    "    num = input()\n",
    "    l=[]\n",
    "    for j in num:\n",
    "        k=int(j)\n",
    "        if k not in l:\n",
    "            l.append(k)\n",
    "    if len(l) == 10:\n",
    "        print(True)\n",
    "    else:\n",
    "        print(False)"
   ]
  },
  {
   "cell_type": "code",
   "execution_count": 5,
   "metadata": {},
   "outputs": [
    {
     "name": "stdout",
     "output_type": "stream",
     "text": [
      "2\n",
      "85789403124356\n",
      "True\n",
      "24235683479036\n",
      "False\n"
     ]
    }
   ],
   "source": [
    "# Pandigital using sets\n",
    "n = int(input())\n",
    "for i in range(n):\n",
    "    num = input()\n",
    "    num =set(num)\n",
    "    if len(num) == 10:\n",
    "        print(True)\n",
    "    else:\n",
    "        print(False)"
   ]
  },
  {
   "cell_type": "code",
   "execution_count": null,
   "metadata": {},
   "outputs": [],
   "source": [
    "## Alphabet Encryption\n",
    "\n",
    "n =int(input())\n",
    "for i in range(n):\n",
    "    "
   ]
  },
  {
   "cell_type": "code",
   "execution_count": 11,
   "metadata": {},
   "outputs": [
    {
     "name": "stdout",
     "output_type": "stream",
     "text": [
      "ghvudsiojkfl;b\n",
      " asgdfuysgfyus\n",
      " jdfkbhpugyg "
     ]
    }
   ],
   "source": [
    "# file handling\n",
    "def readFile(filename):\n",
    "    with open(filename,'r') as f:\n",
    "        for line in f:\n",
    "            print(line,end=' ')\n",
    "filename = 'data/file.txt'\n",
    "readFile(filename)"
   ]
  },
  {
   "cell_type": "code",
   "execution_count": 14,
   "metadata": {},
   "outputs": [],
   "source": [
    "def writeFile(filename,filedata):\n",
    "    with open(filename,'w') as f:\n",
    "        f.write(filedata)\n",
    "    return\n",
    "filename = 'data/file.txt'\n",
    "writeFile(filename,'jhsgjfsj \\n')"
   ]
  },
  {
   "cell_type": "code",
   "execution_count": 19,
   "metadata": {},
   "outputs": [],
   "source": [
    "def appenddata(filename,filedata):\n",
    "    with open(filename,'a') as f:\n",
    "        for line in filedata:\n",
    "            f.write(line)\n",
    "    return\n",
    "filedata = ['\\ngvuygfyvu ','\\nihgugreuighiuh','\\nhguihi']\n",
    "filename = 'data/file.txt'\n",
    "appenddata(filename,filedata)"
   ]
  },
  {
   "cell_type": "code",
   "execution_count": 23,
   "metadata": {},
   "outputs": [],
   "source": [
    "def modifydata(filename,filedata):\n",
    "    with open(filename,'a') as f:\n",
    "        for line in filedata:\n",
    "            f.seek(0)\n",
    "        f.write('\\n uu')\n",
    "    return\n",
    "#filedata = ['\\ngvuygfyvu ','\\nihgugreuighiuh','\\nhguihi']\n",
    "filename = 'data/file.txt'\n",
    "modifydata(filename,filedata)"
   ]
  },
  {
   "cell_type": "code",
   "execution_count": 24,
   "metadata": {},
   "outputs": [
    {
     "data": {
      "text/plain": [
       "13"
      ]
     },
     "execution_count": 24,
     "metadata": {},
     "output_type": "execute_result"
    }
   ],
   "source": [
    "#line count\n",
    "def linecount(filename):\n",
    "    with open(filename,'r') as f:\n",
    "        line =0\n",
    "        for l in f:\n",
    "            line+=1\n",
    "    return line\n",
    "filename ='data/file.txt'\n",
    "linecount(filename)\n",
    "            "
   ]
  },
  {
   "cell_type": "code",
   "execution_count": 30,
   "metadata": {},
   "outputs": [
    {
     "data": {
      "text/plain": [
       "149"
      ]
     },
     "execution_count": 30,
     "metadata": {},
     "output_type": "execute_result"
    }
   ],
   "source": [
    "def charcount(filename):\n",
    "    with open(filename,'r') as f:\n",
    "        char =0\n",
    "        for ch in f:\n",
    "            char=char+len(ch)\n",
    "        return char\n",
    "filename ='data/file.txt'\n",
    "charcount(filename)"
   ]
  },
  {
   "cell_type": "code",
   "execution_count": 31,
   "metadata": {},
   "outputs": [
    {
     "data": {
      "text/plain": [
       "149"
      ]
     },
     "execution_count": 31,
     "metadata": {},
     "output_type": "execute_result"
    }
   ],
   "source": [
    "def wordcount(filename):\n",
    "    with open(filename,'r') as f:\n",
    "        word=0\n",
    "        for w in f:\n",
    "            w1=w.split()\n",
    "            word +=len(w)\n",
    "        return word\n",
    "filename ='data/file.txt'\n",
    "wordcount(filename)"
   ]
  },
  {
   "cell_type": "code",
   "execution_count": 35,
   "metadata": {},
   "outputs": [
    {
     "data": {
      "text/plain": [
       "['34', 'fdgh', '987jh']"
      ]
     },
     "execution_count": 35,
     "metadata": {},
     "output_type": "execute_result"
    }
   ],
   "source": [
    "li =['34','fdgh','987jh']\n",
    "li\n",
    "    "
   ]
  },
  {
   "cell_type": "code",
   "execution_count": 37,
   "metadata": {},
   "outputs": [
    {
     "data": {
      "text/plain": [
       "['34', '987jh', 'fdgh']"
      ]
     },
     "execution_count": 37,
     "metadata": {},
     "output_type": "execute_result"
    }
   ],
   "source": [
    "li.sort()\n",
    "li"
   ]
  },
  {
   "cell_type": "code",
   "execution_count": 38,
   "metadata": {},
   "outputs": [
    {
     "data": {
      "text/plain": [
       "3"
      ]
     },
     "execution_count": 38,
     "metadata": {},
     "output_type": "execute_result"
    }
   ],
   "source": [
    "len(li)"
   ]
  },
  {
   "cell_type": "code",
   "execution_count": 39,
   "metadata": {},
   "outputs": [
    {
     "data": {
      "text/plain": [
       "['34', '987jh', 'fdgh']"
      ]
     },
     "execution_count": 39,
     "metadata": {},
     "output_type": "execute_result"
    }
   ],
   "source": [
    "li.pop\n",
    "li"
   ]
  },
  {
   "cell_type": "code",
   "execution_count": 40,
   "metadata": {},
   "outputs": [
    {
     "data": {
      "text/plain": [
       "'34'"
      ]
     },
     "execution_count": 40,
     "metadata": {},
     "output_type": "execute_result"
    }
   ],
   "source": [
    "min(li)"
   ]
  },
  {
   "cell_type": "code",
   "execution_count": 41,
   "metadata": {},
   "outputs": [
    {
     "name": "stdout",
     "output_type": "stream",
     "text": [
      "nivin\n",
      "p\n"
     ]
    }
   ],
   "source": [
    "#palin\n",
    "s=input()\n",
    "if s==s[::-1]:\n",
    "    print(\"p\")\n",
    "else:\n",
    "    print(\"Np\")"
   ]
  },
  {
   "cell_type": "code",
   "execution_count": 42,
   "metadata": {},
   "outputs": [
    {
     "name": "stdout",
     "output_type": "stream",
     "text": [
      "3 -2 1\n"
     ]
    },
    {
     "data": {
      "text/plain": [
       "1"
      ]
     },
     "execution_count": 42,
     "metadata": {},
     "output_type": "execute_result"
    }
   ],
   "source": [
    "# closest zero\n",
    "s =input().split()\n",
    "li=[]\n",
    "for i in s:\n",
    "    li.append(abs(int(i)))\n",
    "min(li)\n",
    "    \n",
    "    \n"
   ]
  },
  {
   "cell_type": "code",
   "execution_count": 43,
   "metadata": {},
   "outputs": [
    {
     "data": {
      "text/plain": [
       "['1', '3']"
      ]
     },
     "execution_count": 43,
     "metadata": {},
     "output_type": "execute_result"
    }
   ],
   "source": [
    "s[::-2]"
   ]
  },
  {
   "cell_type": "code",
   "execution_count": 51,
   "metadata": {},
   "outputs": [
    {
     "data": {
      "text/plain": [
       "set()"
      ]
     },
     "execution_count": 51,
     "metadata": {},
     "output_type": "execute_result"
    }
   ],
   "source": [
    "a={1,2,3,4,1,1}\n",
    "b={1,5,2,3,4,2}\n",
    "a-b"
   ]
  },
  {
   "cell_type": "code",
   "execution_count": 52,
   "metadata": {},
   "outputs": [
    {
     "name": "stdout",
     "output_type": "stream",
     "text": [
      "jhsgjfsj \n",
      " dgjkgf\n",
      " gvuygfyvuihgugreuighiuhgvuygfyvu \n",
      " ihgugreuighiuh\n",
      " gvuygfyvu \n",
      " ihgugreuighiuh\n",
      " hguihi\n",
      " gvuygfyvu \n",
      " ihgugreuighiuh\n",
      " hguihi\n",
      "  hello\n",
      "  hello\n",
      "  uu "
     ]
    }
   ],
   "source": [
    "def readfile(filename):\n",
    "    with open(filename,'r') as f:\n",
    "        for line in f:\n",
    "            print(line,end=' ')\n",
    "        return\n",
    "filename = 'data/file.txt'\n",
    "readfile(filename)"
   ]
  },
  {
   "cell_type": "code",
   "execution_count": 53,
   "metadata": {},
   "outputs": [],
   "source": [
    "def writedata(filename,filedata):\n",
    "    with open(filename,'w') as f:\n",
    "        f=f.write(filedata)\n",
    "    return\n",
    "filename=\"data/file.txt\"\n",
    "writedata(filename,'gfiyuhvu')"
   ]
  },
  {
   "cell_type": "code",
   "execution_count": 60,
   "metadata": {},
   "outputs": [],
   "source": [
    "def appenddata(filename,filedata):\n",
    "    with open(filename,'a') as f:\n",
    "        for line in filedata:\n",
    "            f.write(line)\n",
    "    return\n",
    "filedata=['\\n jghu','\\n hguh','\\n hghh']\n",
    "filename='data/file.txt'\n",
    "\n",
    "appenddata(filename,filedata)"
   ]
  },
  {
   "cell_type": "code",
   "execution_count": 61,
   "metadata": {},
   "outputs": [
    {
     "data": {
      "text/plain": [
       "4"
      ]
     },
     "execution_count": 61,
     "metadata": {},
     "output_type": "execute_result"
    }
   ],
   "source": [
    "#linecount\n",
    "def linecount(filename):\n",
    "    with open(filename,'r') as f:\n",
    "        line=0\n",
    "        for l in f:\n",
    "            line+=1\n",
    "        return line\n",
    "filename='data/file.txt'\n",
    "linecount(filename)"
   ]
  },
  {
   "cell_type": "code",
   "execution_count": 62,
   "metadata": {},
   "outputs": [
    {
     "data": {
      "text/plain": [
       "26"
      ]
     },
     "execution_count": 62,
     "metadata": {},
     "output_type": "execute_result"
    }
   ],
   "source": [
    "def charcount(filename):\n",
    "    with open(filename,'r') as f:\n",
    "        char=0\n",
    "        for ch in f:\n",
    "            char +=len(ch)\n",
    "        return char\n",
    "    \n",
    "filename='data/file.txt'\n",
    "charcount(filename)"
   ]
  },
  {
   "cell_type": "code",
   "execution_count": 65,
   "metadata": {},
   "outputs": [
    {
     "data": {
      "text/plain": [
       "4"
      ]
     },
     "execution_count": 65,
     "metadata": {},
     "output_type": "execute_result"
    }
   ],
   "source": [
    "def wordcount(filenname):\n",
    "    with open(filename,'r') as f:\n",
    "        words=0\n",
    "        for w in f:\n",
    "            wd=w.split()\n",
    "            words+=len(wd)\n",
    "        return words\n",
    "#filename='data/file.txt'\n",
    "wordcount('data/file.txt')"
   ]
  },
  {
   "cell_type": "code",
   "execution_count": 95,
   "metadata": {},
   "outputs": [],
   "source": [
    "from random import randint\n",
    "def markgen(n,l,u):\n",
    "    filename='data/mark.txt'\n",
    "    with open(filename,'w') as f:\n",
    "        for i in range(0,n):\n",
    "            mark=randint(l,u)\n",
    "            f.write(str(mark)+'\\n')\n",
    "        return\n",
    "markgen(50,1,100)"
   ]
  },
  {
   "cell_type": "code",
   "execution_count": 96,
   "metadata": {},
   "outputs": [
    {
     "data": {
      "text/plain": [
       "56"
      ]
     },
     "execution_count": 96,
     "metadata": {},
     "output_type": "execute_result"
    }
   ],
   "source": [
    "def readfile(filename):\n",
    "    with open(filename,'r') as f:\n",
    "        fd=f.read().split()\n",
    "    return list(map(int,fd))\n",
    "def avgmarks(filename):\n",
    "    listmark=readfile(filename)\n",
    "    return sum(listmark) // len(listmark)\n",
    "filename='data/mark.txt'\n",
    "avgmarks(filename)"
   ]
  },
  {
   "cell_type": "code",
   "execution_count": 97,
   "metadata": {},
   "outputs": [
    {
     "data": {
      "text/plain": [
       "70.0"
      ]
     },
     "execution_count": 97,
     "metadata": {},
     "output_type": "execute_result"
    }
   ],
   "source": [
    "def passper(filename):\n",
    "    listmark=readfile(filename)\n",
    "    pcount=len(list(filter(lambda mrk: mrk>40 ,listmark)))\n",
    "    return pcount / len(listmark) * 100\n",
    "filname='data/mark.txt'\n",
    "passper(filename)"
   ]
  },
  {
   "cell_type": "code",
   "execution_count": 98,
   "metadata": {},
   "outputs": [
    {
     "data": {
      "text/plain": [
       "[1]"
      ]
     },
     "execution_count": 98,
     "metadata": {},
     "output_type": "execute_result"
    }
   ],
   "source": [
    "def highfr(filename):\n",
    "    markslist=readfile(filename)\n",
    "    return [markslist.count(max(markslist))]\n",
    "highfr(filename)"
   ]
  },
  {
   "cell_type": "code",
   "execution_count": 100,
   "metadata": {},
   "outputs": [],
   "source": [
    "#mark gen\n",
    "from random import randint\n",
    "def markgen(n,l,u):\n",
    "    filename='data/m.txt'\n",
    "    with open(filename,'w') as f:\n",
    "        for i in range(0,n):\n",
    "            mk=randint(l,u)\n",
    "            f.write(str(mk)+'\\n')\n",
    "        return\n",
    "markgen(50,1,100)"
   ]
  },
  {
   "cell_type": "code",
   "execution_count": 103,
   "metadata": {},
   "outputs": [
    {
     "data": {
      "text/plain": [
       "56"
      ]
     },
     "execution_count": 103,
     "metadata": {},
     "output_type": "execute_result"
    }
   ],
   "source": [
    "def readfile(filename):\n",
    "    with open(filename,'r') as f:\n",
    "        fd=f.read().split()\n",
    "    return list(map(int,fd))\n",
    "\n",
    "def avgmarks(filename):\n",
    "    marklist=readfile(filename)\n",
    "    return sum(marklist)//len(marklist)\n",
    "\n",
    "avgmarks(filename)\n",
    "#readfile(filename)"
   ]
  },
  {
   "cell_type": "code",
   "execution_count": 104,
   "metadata": {},
   "outputs": [
    {
     "data": {
      "text/plain": [
       "70.0"
      ]
     },
     "execution_count": 104,
     "metadata": {},
     "output_type": "execute_result"
    }
   ],
   "source": [
    "def passper(filename):\n",
    "    marklist=readfile(filename)\n",
    "    pco=len(list(filter(lambda m:m>=40,marklist)))\n",
    "    return pco/len(marklist) *100\n",
    "passper(filename)"
   ]
  },
  {
   "cell_type": "code",
   "execution_count": 107,
   "metadata": {},
   "outputs": [
    {
     "data": {
      "text/plain": [
       "30.0"
      ]
     },
     "execution_count": 107,
     "metadata": {},
     "output_type": "execute_result"
    }
   ],
   "source": [
    "def failper(filename):\n",
    "    marklist=readfile(filename)\n",
    "    fco=len(list(filter(lambda m:m<40,marklist)))\n",
    "    return fco/len(marklist) *100\n",
    "failper(filename)"
   ]
  },
  {
   "cell_type": "code",
   "execution_count": 109,
   "metadata": {},
   "outputs": [
    {
     "data": {
      "text/plain": [
       "[1]"
      ]
     },
     "execution_count": 109,
     "metadata": {},
     "output_type": "execute_result"
    }
   ],
   "source": [
    "def highfreq(filename):\n",
    "    marklist=readfile(filename)\n",
    "    return [marklist.count(max(marklist))]\n",
    "highfreq(filename)"
   ]
  },
  {
   "cell_type": "code",
   "execution_count": null,
   "metadata": {},
   "outputs": [],
   "source": []
  }
 ],
 "metadata": {
  "kernelspec": {
   "display_name": "Python 3",
   "language": "python",
   "name": "python3"
  },
  "language_info": {
   "codemirror_mode": {
    "name": "ipython",
    "version": 3
   },
   "file_extension": ".py",
   "mimetype": "text/x-python",
   "name": "python",
   "nbconvert_exporter": "python",
   "pygments_lexer": "ipython3",
   "version": "3.7.3"
  }
 },
 "nbformat": 4,
 "nbformat_minor": 2
}
