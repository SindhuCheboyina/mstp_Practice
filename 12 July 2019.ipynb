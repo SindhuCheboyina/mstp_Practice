{
 "cells": [
  {
   "cell_type": "code",
   "execution_count": 2,
   "metadata": {},
   "outputs": [
    {
     "name": "stdout",
     "output_type": "stream",
     "text": [
      "3\n",
      "5\n",
      "51\n",
      "3\n",
      "16\n",
      "4\n",
      "31\n"
     ]
    }
   ],
   "source": [
    "# pentagona\n",
    "n=int(input())\n",
    "for i in range(n):\n",
    "    n1=int(input())\n",
    "    s=1\n",
    "    for j in range(2,n1+1):\n",
    "        s+=(j-1)*5\n",
    "    print(s)"
   ]
  },
  {
   "cell_type": "code",
   "execution_count": 3,
   "metadata": {},
   "outputs": [
    {
     "name": "stdout",
     "output_type": "stream",
     "text": [
      "2\n",
      "lilly you ultimate elegant teen\n",
      "Valid\n",
      "lilly lilly you are \n",
      "Invalid\n"
     ]
    }
   ],
   "source": [
    "#Shiritori game\n",
    "# r-1 no word should be repeated in the given sentence\n",
    "# r-2 last character of the first word should match with first char of next word\n",
    "\n",
    "n = int(input())\n",
    "for i in range(n):\n",
    "    s=input().split()\n",
    "    if len(s) == 1:\n",
    "        print(\"valid\")\n",
    "    else:\n",
    "        status =True\n",
    "        for i in range(1,len(s)):\n",
    "            word1=s[i]\n",
    "            word2=s[i-1]\n",
    "            if word1[0] != word2[-1]:\n",
    "                status = False\n",
    "        for i in s:\n",
    "            if s.count(i) >1:\n",
    "                status=False\n",
    "        if status:\n",
    "            print(\"Valid\")\n",
    "        else:\n",
    "            print(\"Invalid\")"
   ]
  },
  {
   "cell_type": "code",
   "execution_count": null,
   "metadata": {},
   "outputs": [],
   "source": []
  }
 ],
 "metadata": {
  "kernelspec": {
   "display_name": "Python 3",
   "language": "python",
   "name": "python3"
  },
  "language_info": {
   "codemirror_mode": {
    "name": "ipython",
    "version": 3
   },
   "file_extension": ".py",
   "mimetype": "text/x-python",
   "name": "python",
   "nbconvert_exporter": "python",
   "pygments_lexer": "ipython3",
   "version": "3.7.3"
  }
 },
 "nbformat": 4,
 "nbformat_minor": 2
}
