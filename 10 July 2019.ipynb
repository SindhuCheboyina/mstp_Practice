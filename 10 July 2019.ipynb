{
 "cells": [
  {
   "cell_type": "code",
   "execution_count": 2,
   "metadata": {},
   "outputs": [
    {
     "name": "stdout",
     "output_type": "stream",
     "text": [
      "malayalam\n",
      "malayalam\n",
      "ala\n",
      "alayala\n",
      "layal\n",
      "aya\n",
      "ala\n"
     ]
    }
   ],
   "source": [
    "# possible palindromic substrings\n",
    "st = input()\n",
    "for i in range(len(st)):\n",
    "    for j in range(i,len(st)):\n",
    "        if st[i:j+1] == st[i:j+1][::-1] and len(st[i:j+1])>1:\n",
    "            print(st[i:j+1])"
   ]
  },
  {
   "cell_type": "code",
   "execution_count": 2,
   "metadata": {},
   "outputs": [
    {
     "name": "stdout",
     "output_type": "stream",
     "text": [
      "abcbc\n",
      "bc\n"
     ]
    },
    {
     "data": {
      "text/plain": [
       "2"
      ]
     },
     "execution_count": 2,
     "metadata": {},
     "output_type": "execute_result"
    }
   ],
   "source": [
    "#substrings count in a string\n",
    "st = input()\n",
    "substr=input()\n",
    "\"\"\"count =0\n",
    "for i in range(len(st)):\n",
    "    for j in range(i,len(st)):\n",
    "        if st[i:j+1] == substr:\n",
    "            count +=1\n",
    "print(count)\"\"\"\n",
    "st.count(substr)"
   ]
  },
  {
   "cell_type": "code",
   "execution_count": 1,
   "metadata": {},
   "outputs": [
    {
     "name": "stdout",
     "output_type": "stream",
     "text": [
      "2\n",
      "pyProgram\n",
      "py_Program\n",
      "oneTwo\n",
      "one_Two\n"
     ]
    }
   ],
   "source": [
    "#camel case\n",
    "n = int(input())\n",
    "for i in range(n):\n",
    "    s=input()\n",
    "    m=s[0]\n",
    "    for j in s[1:]:\n",
    "        if j.isupper():\n",
    "            m+='_'\n",
    "        m+=j\n",
    "    print(m)\n",
    "        "
   ]
  },
  {
   "cell_type": "code",
   "execution_count": null,
   "metadata": {},
   "outputs": [],
   "source": [
    "# String Validators\n",
    "\n",
    "s =input()\n",
    "for i in range(len(s)):\n",
    "    if s[i].islower():\n",
    "        print(True)"
   ]
  },
  {
   "cell_type": "code",
   "execution_count": 4,
   "metadata": {},
   "outputs": [
    {
     "name": "stdout",
     "output_type": "stream",
     "text": [
      "True\n"
     ]
    }
   ],
   "source": []
  },
  {
   "cell_type": "code",
   "execution_count": null,
   "metadata": {},
   "outputs": [],
   "source": []
  }
 ],
 "metadata": {
  "kernelspec": {
   "display_name": "Python 3",
   "language": "python",
   "name": "python3"
  },
  "language_info": {
   "codemirror_mode": {
    "name": "ipython",
    "version": 3
   },
   "file_extension": ".py",
   "mimetype": "text/x-python",
   "name": "python",
   "nbconvert_exporter": "python",
   "pygments_lexer": "ipython3",
   "version": "3.7.3"
  }
 },
 "nbformat": 4,
 "nbformat_minor": 2
}
