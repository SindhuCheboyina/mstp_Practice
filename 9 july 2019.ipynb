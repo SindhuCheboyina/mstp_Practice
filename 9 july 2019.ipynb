{
 "cells": [
  {
   "cell_type": "code",
   "execution_count": 1,
   "metadata": {},
   "outputs": [
    {
     "name": "stdout",
     "output_type": "stream",
     "text": [
      "kjfh\n",
      "hfjk\n"
     ]
    }
   ],
   "source": [
    "st =input()\n",
    "s = st[::-1]\n",
    "print(s)"
   ]
  },
  {
   "cell_type": "code",
   "execution_count": 2,
   "metadata": {},
   "outputs": [
    {
     "name": "stdout",
     "output_type": "stream",
     "text": [
      "enter name: hj\n",
      "ener score: 89\n",
      "enter name: hk\n",
      "ener score: 90\n",
      "enter name: gy\n",
      "ener score: 78\n",
      "hk\n"
     ]
    }
   ],
   "source": [
    "# read the individual scores of 10 sportspersons and display the winner name using dictionaries\n",
    "\n",
    "sports = {}\n",
    "#read scores and sportsperson names\n",
    "\n",
    "for i in range(3):\n",
    "    name = input('enter name: ')\n",
    "    score = int(input(\"ener score: \"))\n",
    "    sports[name] = score\n",
    "max_score = max(sports.values())    \n",
    "#max_score\n",
    "#sports\n",
    "for i in sports.items():\n",
    "    if i[1] == max_score:\n",
    "        print(i[0])"
   ]
  },
  {
   "cell_type": "code",
   "execution_count": null,
   "metadata": {},
   "outputs": [],
   "source": [
    "#Read all the scores of batsmen and print their ranking based on scores\n",
    "# abc 3\n",
    "# def 40\n",
    "# ghi 20\n",
    "# jkl 10\n",
    "\n",
    "d = {'abc':3,'def':40,'ghi':20,'jkl':10}\n",
    "l=d.values()\n",
    "l=sorted(l,reverse=True)\n",
    "j=0\n",
    "for i in l:\n",
    "    for j in d.items():\n",
    "        if i == j[1]"
   ]
  },
  {
   "cell_type": "code",
   "execution_count": 6,
   "metadata": {},
   "outputs": [
    {
     "data": {
      "text/plain": [
       "3"
      ]
     },
     "execution_count": 6,
     "metadata": {},
     "output_type": "execute_result"
    }
   ],
   "source": [
    "li =[234,656,789,23]\n",
    "def search(li,key):\n",
    "    for index in range(0,len(li)):\n",
    "        if li[index] == key:\n",
    "            return index\n",
    "    return -1\n",
    "search(li,23)"
   ]
  },
  {
   "cell_type": "code",
   "execution_count": 17,
   "metadata": {},
   "outputs": [
    {
     "data": {
      "text/plain": [
       "1"
      ]
     },
     "execution_count": 17,
     "metadata": {},
     "output_type": "execute_result"
    }
   ],
   "source": [
    "# finding the character count\n",
    "def charCount(str, ch):\n",
    "    count = 0\n",
    "    for c in str:\n",
    "        if c == ch:\n",
    "            count +=1\n",
    "    return count\n",
    "charCount('strin21','s')"
   ]
  },
  {
   "cell_type": "code",
   "execution_count": 13,
   "metadata": {},
   "outputs": [
    {
     "data": {
      "text/plain": [
       "2"
      ]
     },
     "execution_count": 13,
     "metadata": {},
     "output_type": "execute_result"
    }
   ],
   "source": [
    "def CouChaStr2(stri,subs):\n",
    "    return stri.count(subs)\n",
    "CouChaStr2(\"Pythonin Programming\",'in')"
   ]
  },
  {
   "cell_type": "code",
   "execution_count": 24,
   "metadata": {},
   "outputs": [
    {
     "name": "stdout",
     "output_type": "stream",
     "text": [
      "4\n",
      "1 -1 2 3 4 4\n"
     ]
    },
    {
     "data": {
      "text/plain": [
       "1"
      ]
     },
     "execution_count": 24,
     "metadata": {},
     "output_type": "execute_result"
    }
   ],
   "source": [
    "n=int(input())\n",
    "s = input().split(\" \")\n",
    "li =[]\n",
    "for i in s:\n",
    "    li.append(abs(int(i)))\n",
    "min(li)"
   ]
  },
  {
   "cell_type": "code",
   "execution_count": 26,
   "metadata": {},
   "outputs": [
    {
     "name": "stdout",
     "output_type": "stream",
     "text": [
      "3\n",
      "-1 -2 3 -5\n"
     ]
    },
    {
     "data": {
      "text/plain": [
       "5"
      ]
     },
     "execution_count": 26,
     "metadata": {},
     "output_type": "execute_result"
    }
   ],
   "source": [
    "n=int(input())\n",
    "s = input().split(\" \")\n",
    "li =[]\n",
    "for i in s:\n",
    "    li.append(abs(int(i)))\n",
    "max(li)"
   ]
  },
  {
   "cell_type": "code",
   "execution_count": 38,
   "metadata": {},
   "outputs": [
    {
     "name": "stdout",
     "output_type": "stream",
     "text": [
      "4567yuft\n",
      "char  4\n",
      "digit  4\n"
     ]
    }
   ],
   "source": [
    "#char and digit count\n",
    "st =input()\n",
    "c =0\n",
    "d=0\n",
    "for i in st:\n",
    "    if i.isalpha():\n",
    "        c+=1\n",
    "    elif i.isdigit():\n",
    "        d +=1\n",
    "    else:\n",
    "        pass\n",
    "print('char ',c)\n",
    "print('digit ',d)\n",
    "            \n",
    "#chndtCount(c,d)     "
   ]
  },
  {
   "cell_type": "code",
   "execution_count": null,
   "metadata": {},
   "outputs": [],
   "source": [
    "#common factors\n",
    "\n",
    "n1=int(input())\n",
    "n2=int(input())\n",
    "temp = n1\n",
    "temp =min(n1,n2)\n",
    "for i in range"
   ]
  },
  {
   "cell_type": "code",
   "execution_count": 40,
   "metadata": {},
   "outputs": [
    {
     "name": "stdout",
     "output_type": "stream",
     "text": [
      "5\n"
     ]
    },
    {
     "data": {
      "text/plain": [
       "4"
      ]
     },
     "execution_count": 40,
     "metadata": {},
     "output_type": "execute_result"
    }
   ],
   "source": [
    "# highest remainder\n",
    "n=int(input())\n",
    "def highRem(n):\n",
    "    \n",
    "    r=0\n",
    "    for i in range(1,n):\n",
    "        re=n%i\n",
    "        if re > r:\n",
    "            rem=r\n",
    "            j=i\n",
    "    return j\n",
    "highRem(n)"
   ]
  },
  {
   "cell_type": "code",
   "execution_count": 42,
   "metadata": {},
   "outputs": [
    {
     "name": "stdout",
     "output_type": "stream",
     "text": [
      "25872395697\n",
      "2\n"
     ]
    },
    {
     "data": {
      "text/plain": [
       "2"
      ]
     },
     "execution_count": 42,
     "metadata": {},
     "output_type": "execute_result"
    }
   ],
   "source": [
    "# Frequency of a digit in a number\n",
    "\n",
    "def digFrequency(n,d):\n",
    "    c = 0\n",
    "    while n>0:\n",
    "        if n%10 == d:\n",
    "            c +=1\n",
    "        n = n//10\n",
    "    return c   \n",
    "    \n",
    "n=int(input())\n",
    "d=int(input())\n",
    "digFrequency(n,d)"
   ]
  },
  {
   "cell_type": "code",
   "execution_count": 53,
   "metadata": {},
   "outputs": [
    {
     "data": {
      "text/plain": [
       "{1: 1, 2: 1, 3: 1, 4: 1}"
      ]
     },
     "execution_count": 53,
     "metadata": {},
     "output_type": "execute_result"
    }
   ],
   "source": [
    "def frequencyDistribution(data):\n",
    "    return {i: data.count(i) for i in data}   \n",
    "\n",
    "frequencyDistribution([1,2,3,4])"
   ]
  },
  {
   "cell_type": "code",
   "execution_count": 48,
   "metadata": {},
   "outputs": [
    {
     "data": {
      "text/plain": [
       "1"
      ]
     },
     "execution_count": 48,
     "metadata": {},
     "output_type": "execute_result"
    }
   ],
   "source": [
    "# highest frequency\n",
    "\n",
    "def frequencyDistribution(data):\n",
    "    d = {i: data.count(i) for i in data}\n",
    "    f = sorted(d.values(), reverse = True)\n",
    "    m = f[0]\n",
    "    for item in d.items():\n",
    "        if(item[1]== m):\n",
    "            return item[0]\n",
    "\n",
    "frequencyDistribution([1,2,3,4,1,1,1])"
   ]
  },
  {
   "cell_type": "code",
   "execution_count": 55,
   "metadata": {},
   "outputs": [
    {
     "data": {
      "text/plain": [
       "2"
      ]
     },
     "execution_count": 55,
     "metadata": {},
     "output_type": "execute_result"
    }
   ],
   "source": [
    "#lowest frequency\n",
    "def frequencyDistribution(data):\n",
    "    d = {i: data.count(i) for i in data}\n",
    "    f = sorted(d.values(), reverse = True)\n",
    "    m = f[-1]\n",
    "    li=[]\n",
    "    for item in d.items():\n",
    "        if(item[1]== m):\n",
    "            li.append(item[0])\n",
    "    return min(li)\n",
    "\n",
    "frequencyDistribution([1,2,3,4,1,1,1])"
   ]
  },
  {
   "cell_type": "code",
   "execution_count": 76,
   "metadata": {},
   "outputs": [
    {
     "data": {
      "text/plain": [
       "2"
      ]
     },
     "execution_count": 76,
     "metadata": {},
     "output_type": "execute_result"
    }
   ],
   "source": [
    "#kth frequency\n",
    "def frequencyDistribution(data,k):\n",
    "    d = {i: data.count(i) for i in data}\n",
    "    f = sorted(d.values(), reverse = True)\n",
    "    uniqval=list(set(f))\n",
    "    uniqval=sorted(uniqval, reverse =True)\n",
    "    li=[]\n",
    "    if k > len(d.values()):\n",
    "        return -1\n",
    "    else:\n",
    "        kval = uniqval[k-1]\n",
    "    for item in d.items():\n",
    "        if(item[1]== kval):\n",
    "            li.append(item[0])\n",
    "    return min6(li)\n",
    "\n",
    "frequencyDistribution([1,2,3,4,1,1,1],2)"
   ]
  },
  {
   "cell_type": "code",
   "execution_count": null,
   "metadata": {},
   "outputs": [],
   "source": [
    "\n",
    "def frequencyDistribution(data):\n",
    "    for i in range(n)\n",
    "    d = {i: data.count(i) for i in data}\n",
    "    f = sorted(d.values(), reverse = True)\n",
    "    m = f[-1]\n",
    "    li=[]\n",
    "    for item in d.items():\n",
    "        if(item[1]== m):\n",
    "            li.append(item[0])\n",
    "    return min(li)\n",
    "\n",
    "frequencyDistribution([1,2,3,4,1,1,1])"
   ]
  },
  {
   "cell_type": "code",
   "execution_count": 79,
   "metadata": {},
   "outputs": [
    {
     "name": "stdout",
     "output_type": "stream",
     "text": [
      "32\n",
      "32 56\n",
      "56 89\n",
      "EXIT\n",
      "\n",
      "\n",
      "56\n"
     ]
    }
   ],
   "source": [
    "max_element = 0\n",
    "while True:\n",
    "    n=input()\n",
    "    if n=='EXIT':\n",
    "        break\n",
    "    num = int(n)\n",
    "    if num % 2==0:\n",
    "        print(num,end=\" \")\n",
    "        if max_element < num:\n",
    "            max_element = num\n",
    "print('\\n')\n",
    "print(max_element)"
   ]
  },
  {
   "cell_type": "code",
   "execution_count": 80,
   "metadata": {},
   "outputs": [
    {
     "name": "stdout",
     "output_type": "stream",
     "text": [
      "3\n",
      "hackerearth.com\n",
      "abd.in\n",
      "hackerearth.com\n",
      "com\n"
     ]
    }
   ],
   "source": [
    "n=int(input())\n",
    "d={}\n",
    "for i in range(n):\n",
    "    iurl=input().split('.')\n",
    "    domain = iurl[-1]\n",
    "    if domain not in d:\n",
    "        d[domain]=1\n",
    "    else:\n",
    "        d[domain]+=1\n",
    "m=max(d.values())\n",
    "for i in d.items():\n",
    "    if i[1]== m:\n",
    "        print(i[0])\n",
    "        \n",
    "\n"
   ]
  },
  {
   "cell_type": "code",
   "execution_count": null,
   "metadata": {},
   "outputs": [],
   "source": []
  }
 ],
 "metadata": {
  "kernelspec": {
   "display_name": "Python 3",
   "language": "python",
   "name": "python3"
  },
  "language_info": {
   "codemirror_mode": {
    "name": "ipython",
    "version": 3
   },
   "file_extension": ".py",
   "mimetype": "text/x-python",
   "name": "python",
   "nbconvert_exporter": "python",
   "pygments_lexer": "ipython3",
   "version": "3.7.3"
  }
 },
 "nbformat": 4,
 "nbformat_minor": 2
}
